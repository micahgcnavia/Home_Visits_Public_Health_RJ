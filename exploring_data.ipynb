{
 "cells": [
  {
   "cell_type": "markdown",
   "metadata": {},
   "source": [
    "# **DIT Test**\n",
    "\n",
    "# Exploring the data with Jupyter Notebook\n",
    "\n",
    "Author: Micah Guimarães do Carmo Navia\n",
    "\n",
    "Contact: <a href='mailto:micahgcnavia@gmail.com'>micahgcnavia@gmail.com</a>\n",
    "\n",
    "## Objectives\n",
    "\n",
    "In this notebook I am going to:\n",
    "\n",
    "*   Load the data\n",
    "*   Explore and understand what each column means\n",
    "*   Identify problems and guess what was the possible cause for each case\n",
    "*   Propose solutions for each problem\n",
    "\n",
    "## Summary\n",
    "\n",
    "1. [Initial analysis](#initial_analysis)\n",
    "2. [Number of registers over time](#registers_over_time)\n",
    "3. [Exploring quantitative data](#exploring_quantitative_data)\n",
    "4. [Exploring all columns](#general_exploration)\n",
    "5. [Identifying problems](#identifying_problems)"
   ]
  },
  {
   "cell_type": "markdown",
   "metadata": {},
   "source": [
    "---"
   ]
  },
  {
   "cell_type": "code",
   "execution_count": 13,
   "metadata": {},
   "outputs": [
    {
     "name": "stdout",
     "output_type": "stream",
     "text": [
      "Python version used in this Jupyter Notebook: 3.8.10\n"
     ]
    }
   ],
   "source": [
    "from platform import python_version\n",
    "print('Python version used in this Jupyter Notebook:', python_version())"
   ]
  },
  {
   "cell_type": "markdown",
   "metadata": {},
   "source": [
    "Loading useful packages"
   ]
  },
  {
   "cell_type": "code",
   "execution_count": 14,
   "metadata": {},
   "outputs": [],
   "source": [
    "import pandas as pd\n",
    "import matplotlib.pyplot as plt\n",
    "import seaborn as sns\n",
    "import numpy as np\n",
    "import re\n",
    "import ast\n",
    "import uuid\n",
    "from fractions import Fraction\n",
    "#!pip install tabulate -q\n",
    "from tabulate import tabulate"
   ]
  },
  {
   "cell_type": "markdown",
   "metadata": {},
   "source": [
    "Loading dataset"
   ]
  },
  {
   "cell_type": "code",
   "execution_count": 15,
   "metadata": {},
   "outputs": [
    {
     "name": "stdout",
     "output_type": "stream",
     "text": [
      "Table loaded with success.\n"
     ]
    }
   ],
   "source": [
    "url = \"https://drive.google.com/file/d/1dWC1ZUPNlCQBalYPY8uP4Zzs0aue9nkQ/view?usp=sharing\"\n",
    "path = 'https://drive.google.com/uc?export=download&id='+url.split('/')[-2]\n",
    "\n",
    "try:\n",
    "    df = pd.read_csv(path)\n",
    "    print('Table loaded with success.')\n",
    "\n",
    "except:\n",
    "    print('Error when loading the table. Please contact the author.')"
   ]
  },
  {
   "cell_type": "markdown",
   "metadata": {},
   "source": [
    "<a id='initial_analysis'></a>\n",
    "## Initial analysis"
   ]
  },
  {
   "cell_type": "code",
   "execution_count": 16,
   "metadata": {},
   "outputs": [
    {
     "data": {
      "text/plain": [
       "Index(['id_paciente', 'sexo', 'obito', 'bairro', 'raca_cor', 'ocupacao',\n",
       "       'religiao', 'luz_eletrica', 'data_cadastro', 'escolaridade',\n",
       "       'nacionalidade', 'renda_familiar', 'data_nascimento',\n",
       "       'em_situacao_de_rua', 'frequenta_escola', 'meios_transporte',\n",
       "       'doencas_condicoes', 'identidade_genero', 'meios_comunicacao',\n",
       "       'orientacao_sexual', 'possui_plano_saude', 'em_caso_doenca_procura',\n",
       "       'situacao_profissional', 'vulnerabilidade_social',\n",
       "       'data_atualizacao_cadastro', 'familia_beneficiaria_auxilio_brasil',\n",
       "       'crianca_matriculada_creche_pre_escola', 'altura', 'peso',\n",
       "       'pressao_sistolica', 'pressao_diastolica',\n",
       "       'n_atendimentos_atencao_primaria', 'n_atendimentos_hospital',\n",
       "       'updated_at', 'tipo'],\n",
       "      dtype='object')"
      ]
     },
     "execution_count": 16,
     "metadata": {},
     "output_type": "execute_result"
    }
   ],
   "source": [
    "# Let's take a look at the columns\n",
    "\n",
    "df.columns"
   ]
  },
  {
   "cell_type": "markdown",
   "metadata": {},
   "source": [
    "### Detailed description of each column:\n",
    "\n",
    "(As this project uses data from home visits in the city of Rio de Janeiro, its content is in portuguese)\n",
    "\n",
    "* **Patient ID** (`id_paciente`): Used to uniquely identify each patient of the dataset\n",
    "\n",
    "* **Sex** (`sexo`): Patient's sex\n",
    "\n",
    "* **Death** (`obito`): Flag to indicate whether the patient died\n",
    "\n",
    "* **Neighborhood** (`bairro`): Neighborhood where the patient currently lives\n",
    "\n",
    "* **Race** (`raca_cor`): Patient's race\n",
    "\n",
    "* **Occupation** (`ocupacao`): Patient's current job\n",
    "\n",
    "* **Religion** (`religiao`): Patient's religion\n",
    "\n",
    "\n",
    "* **Electricity** (`luz_eletrica`): Flag to indicate whether the patient has access to electricity\n",
    "\n",
    "* **Register Date** (`data_cadastro`): Register date of the patient\n",
    "\n",
    "* **Education** (`escolaridade`): Patient's education level\n",
    "\n",
    "* **Nationality** (`nacionalidade`): Patient's nationality\n",
    "\n",
    "* **Family Income** (`renda_familiar`): Patient's family income in minimum wages\n",
    "\n",
    "* **Birth Date** (`data_nascimento`): Patient's birth date\n",
    "\n",
    "* **Homeless** (`em_situacao_de_rua`): Flag to indicate whether the patient is homeless\n",
    "\n",
    "* **Attend School** (`frequenta_escola`): Flag to indicate whether the patient attends school\n",
    "\n",
    "* **Means of Transport** (`meios_transporte`): Means of transport used by the patient \n",
    "\n",
    "* **Diseases** (`doencas_condicoes`): Patient's diseases\n",
    "\n",
    "* **Gender Identity** (`identidade_genero`): Patient's gender identity\n",
    "\n",
    "* **Means of Communication** (`meios_comunicacao`): Means of communication used by the patient\n",
    "\n",
    "* **Sexual Orientation** (`orientacao_sexual`): Patient's sexual orientation\n",
    "\n",
    "* **Medical Plan** (`possui_plano_saude`): Flag to indicate whether the patient has a medical plan\n",
    "\n",
    "* **Treatment Facility** (`em_caso_doenca_procura`): Location where the patient seeks health treatment when sick\n",
    "\n",
    "* **Employment Status** (`situacao_profissional`): Patient's employment status\n",
    "\n",
    "* **Social Vulnerability** (`vulnerabilidade_social`): Flag to indicate whether the patient is in a situation of social vulnerability\n",
    "\n",
    "* **Register Update Date** (`data_atualizacao_cadastro`): Date of last register update\n",
    "\n",
    "* **Family benefits from Auxilio Brasil** (`familia_beneficiaria_auxilio_brasil`): Flag to indicate whether the patient's family benefits from the social assistance program Auxilio Brasil\n",
    "\n",
    "* **Child Enrolled in Daycare or Pre-school** (`crianca_matriculada_creche_pre_escola`): Flag to indicate whether the patient is enrolled in daycare or in a pre-school facility\n",
    "\n",
    "* **Height** (`altura`): Patient's height\n",
    "\n",
    "* **Weight** (`peso`): Patient's weight\n",
    "\n",
    "* **Systolic Pressure** (`pressao_sistolica`): Patient's systolic pressure\n",
    "\n",
    "* **Diastolic Pressure** (`pressao_diastolica`): Patient's diastolic pressure\n",
    "\n",
    "* **# of Primary Care Visits** (`n_atendimentos_atencao_primaria`): Number of primary care visits in the last year\n",
    "\n",
    "* **# of Hospital Visits** (`n_atendimentos_hospital`): Number of hospital visits in the last year\n",
    "\n",
    "* **Update Date** (`updated_at`): Date and time of latest update in the database\n",
    "\n",
    "* **Kind** (`tipo`): Indicates whether the data is from a routine or historical flux from the database\n"
   ]
  },
  {
   "cell_type": "code",
   "execution_count": 17,
   "metadata": {},
   "outputs": [
    {
     "data": {
      "text/html": [
       "<div>\n",
       "<style scoped>\n",
       "    .dataframe tbody tr th:only-of-type {\n",
       "        vertical-align: middle;\n",
       "    }\n",
       "\n",
       "    .dataframe tbody tr th {\n",
       "        vertical-align: top;\n",
       "    }\n",
       "\n",
       "    .dataframe thead th {\n",
       "        text-align: right;\n",
       "    }\n",
       "</style>\n",
       "<table border=\"1\" class=\"dataframe\">\n",
       "  <thead>\n",
       "    <tr style=\"text-align: right;\">\n",
       "      <th></th>\n",
       "      <th>id_paciente</th>\n",
       "      <th>sexo</th>\n",
       "      <th>obito</th>\n",
       "      <th>bairro</th>\n",
       "      <th>raca_cor</th>\n",
       "      <th>ocupacao</th>\n",
       "      <th>religiao</th>\n",
       "      <th>luz_eletrica</th>\n",
       "      <th>data_cadastro</th>\n",
       "      <th>escolaridade</th>\n",
       "      <th>...</th>\n",
       "      <th>familia_beneficiaria_auxilio_brasil</th>\n",
       "      <th>crianca_matriculada_creche_pre_escola</th>\n",
       "      <th>altura</th>\n",
       "      <th>peso</th>\n",
       "      <th>pressao_sistolica</th>\n",
       "      <th>pressao_diastolica</th>\n",
       "      <th>n_atendimentos_atencao_primaria</th>\n",
       "      <th>n_atendimentos_hospital</th>\n",
       "      <th>updated_at</th>\n",
       "      <th>tipo</th>\n",
       "    </tr>\n",
       "  </thead>\n",
       "  <tbody>\n",
       "    <tr>\n",
       "      <th>0</th>\n",
       "      <td>cd6daa6e-038d-4952-af29-579e62e07f97</td>\n",
       "      <td>male</td>\n",
       "      <td>0</td>\n",
       "      <td>Parada de Lucas</td>\n",
       "      <td>Branca</td>\n",
       "      <td>Não se aplica</td>\n",
       "      <td>Sem religião</td>\n",
       "      <td>True</td>\n",
       "      <td>2021-06-24 00:00:00.000</td>\n",
       "      <td>Fundamental Incompleto</td>\n",
       "      <td>...</td>\n",
       "      <td>0</td>\n",
       "      <td>0</td>\n",
       "      <td>172.0</td>\n",
       "      <td>52.5</td>\n",
       "      <td>110.0</td>\n",
       "      <td>70.0</td>\n",
       "      <td>8</td>\n",
       "      <td>9</td>\n",
       "      <td>2021-06-01 00:00:00.000</td>\n",
       "      <td>historico</td>\n",
       "    </tr>\n",
       "    <tr>\n",
       "      <th>1</th>\n",
       "      <td>ad6cecb2-3a44-49ab-b2f3-6f9ffc2e2ec7</td>\n",
       "      <td>male</td>\n",
       "      <td>0</td>\n",
       "      <td>Cidade Nova</td>\n",
       "      <td>Parda</td>\n",
       "      <td>Assistente Administrativo</td>\n",
       "      <td>Evangélica</td>\n",
       "      <td>1</td>\n",
       "      <td>2021-01-07 00:00:00.000</td>\n",
       "      <td>Médio Incompleto</td>\n",
       "      <td>...</td>\n",
       "      <td>1</td>\n",
       "      <td>0</td>\n",
       "      <td>158.0</td>\n",
       "      <td>76.2</td>\n",
       "      <td>140.0</td>\n",
       "      <td>80.0</td>\n",
       "      <td>0</td>\n",
       "      <td>6</td>\n",
       "      <td>2020-06-25 00:00:00.000</td>\n",
       "      <td>historico</td>\n",
       "    </tr>\n",
       "    <tr>\n",
       "      <th>2</th>\n",
       "      <td>54e834e7-e722-4daa-8909-cf917a1247e6</td>\n",
       "      <td>male</td>\n",
       "      <td>0</td>\n",
       "      <td>Santa cruz</td>\n",
       "      <td>Parda</td>\n",
       "      <td>Não se aplica</td>\n",
       "      <td>Católica</td>\n",
       "      <td>1</td>\n",
       "      <td>2021-02-18 00:00:00.000</td>\n",
       "      <td>Fundamental Completo</td>\n",
       "      <td>...</td>\n",
       "      <td>0</td>\n",
       "      <td>0</td>\n",
       "      <td>53.0</td>\n",
       "      <td>82.5</td>\n",
       "      <td>180.0</td>\n",
       "      <td>60.0</td>\n",
       "      <td>5</td>\n",
       "      <td>2</td>\n",
       "      <td>2020-03-02 00:00:00.000</td>\n",
       "      <td>historico</td>\n",
       "    </tr>\n",
       "    <tr>\n",
       "      <th>3</th>\n",
       "      <td>c6a71e5e-0933-48d1-9d5a-8f448dc37f71</td>\n",
       "      <td>female</td>\n",
       "      <td>False</td>\n",
       "      <td>Bangu</td>\n",
       "      <td>Branca</td>\n",
       "      <td>Representante Comercial Autônomo</td>\n",
       "      <td>Sem religião</td>\n",
       "      <td>1</td>\n",
       "      <td>2022-03-09 10:40:37</td>\n",
       "      <td>Alfabetizado</td>\n",
       "      <td>...</td>\n",
       "      <td>1</td>\n",
       "      <td>1</td>\n",
       "      <td>164.0</td>\n",
       "      <td>90.6</td>\n",
       "      <td>120.0</td>\n",
       "      <td>70.0</td>\n",
       "      <td>0</td>\n",
       "      <td>27</td>\n",
       "      <td>2021-11-05 11:08:17.477</td>\n",
       "      <td>rotineiro</td>\n",
       "    </tr>\n",
       "    <tr>\n",
       "      <th>4</th>\n",
       "      <td>d5262a3c-e5d3-4195-a46b-0acd2533e1d6</td>\n",
       "      <td>male</td>\n",
       "      <td>0</td>\n",
       "      <td>Santíssimo</td>\n",
       "      <td>Branca</td>\n",
       "      <td>Técnico Eletricista</td>\n",
       "      <td>Outra</td>\n",
       "      <td>True</td>\n",
       "      <td>2022-12-13 18:30:45</td>\n",
       "      <td>Médio Completo</td>\n",
       "      <td>...</td>\n",
       "      <td>0</td>\n",
       "      <td>0</td>\n",
       "      <td>154.0</td>\n",
       "      <td>8.5</td>\n",
       "      <td>180.0</td>\n",
       "      <td>80.0</td>\n",
       "      <td>25</td>\n",
       "      <td>0</td>\n",
       "      <td>2020-11-11 00:00:00.000</td>\n",
       "      <td>historico</td>\n",
       "    </tr>\n",
       "  </tbody>\n",
       "</table>\n",
       "<p>5 rows × 35 columns</p>\n",
       "</div>"
      ],
      "text/plain": [
       "                            id_paciente    sexo  obito           bairro  \\\n",
       "0  cd6daa6e-038d-4952-af29-579e62e07f97    male      0  Parada de Lucas   \n",
       "1  ad6cecb2-3a44-49ab-b2f3-6f9ffc2e2ec7    male      0      Cidade Nova   \n",
       "2  54e834e7-e722-4daa-8909-cf917a1247e6    male      0       Santa cruz   \n",
       "3  c6a71e5e-0933-48d1-9d5a-8f448dc37f71  female  False            Bangu   \n",
       "4  d5262a3c-e5d3-4195-a46b-0acd2533e1d6    male      0       Santíssimo   \n",
       "\n",
       "  raca_cor                          ocupacao      religiao luz_eletrica  \\\n",
       "0   Branca                     Não se aplica  Sem religião         True   \n",
       "1    Parda         Assistente Administrativo    Evangélica            1   \n",
       "2    Parda                     Não se aplica      Católica            1   \n",
       "3   Branca  Representante Comercial Autônomo  Sem religião            1   \n",
       "4   Branca               Técnico Eletricista         Outra         True   \n",
       "\n",
       "             data_cadastro            escolaridade  ...  \\\n",
       "0  2021-06-24 00:00:00.000  Fundamental Incompleto  ...   \n",
       "1  2021-01-07 00:00:00.000        Médio Incompleto  ...   \n",
       "2  2021-02-18 00:00:00.000    Fundamental Completo  ...   \n",
       "3      2022-03-09 10:40:37            Alfabetizado  ...   \n",
       "4      2022-12-13 18:30:45          Médio Completo  ...   \n",
       "\n",
       "  familia_beneficiaria_auxilio_brasil crianca_matriculada_creche_pre_escola  \\\n",
       "0                                   0                                     0   \n",
       "1                                   1                                     0   \n",
       "2                                   0                                     0   \n",
       "3                                   1                                     1   \n",
       "4                                   0                                     0   \n",
       "\n",
       "  altura  peso  pressao_sistolica pressao_diastolica  \\\n",
       "0  172.0  52.5              110.0               70.0   \n",
       "1  158.0  76.2              140.0               80.0   \n",
       "2   53.0  82.5              180.0               60.0   \n",
       "3  164.0  90.6              120.0               70.0   \n",
       "4  154.0   8.5              180.0               80.0   \n",
       "\n",
       "  n_atendimentos_atencao_primaria n_atendimentos_hospital  \\\n",
       "0                               8                       9   \n",
       "1                               0                       6   \n",
       "2                               5                       2   \n",
       "3                               0                      27   \n",
       "4                              25                       0   \n",
       "\n",
       "                updated_at       tipo  \n",
       "0  2021-06-01 00:00:00.000  historico  \n",
       "1  2020-06-25 00:00:00.000  historico  \n",
       "2  2020-03-02 00:00:00.000  historico  \n",
       "3  2021-11-05 11:08:17.477  rotineiro  \n",
       "4  2020-11-11 00:00:00.000  historico  \n",
       "\n",
       "[5 rows x 35 columns]"
      ]
     },
     "execution_count": 17,
     "metadata": {},
     "output_type": "execute_result"
    }
   ],
   "source": [
    "df.head()"
   ]
  },
  {
   "cell_type": "code",
   "execution_count": 18,
   "metadata": {},
   "outputs": [
    {
     "data": {
      "text/html": [
       "<div>\n",
       "<style scoped>\n",
       "    .dataframe tbody tr th:only-of-type {\n",
       "        vertical-align: middle;\n",
       "    }\n",
       "\n",
       "    .dataframe tbody tr th {\n",
       "        vertical-align: top;\n",
       "    }\n",
       "\n",
       "    .dataframe thead th {\n",
       "        text-align: right;\n",
       "    }\n",
       "</style>\n",
       "<table border=\"1\" class=\"dataframe\">\n",
       "  <thead>\n",
       "    <tr style=\"text-align: right;\">\n",
       "      <th></th>\n",
       "      <th>frequenta_escola</th>\n",
       "      <th>altura</th>\n",
       "      <th>peso</th>\n",
       "      <th>pressao_sistolica</th>\n",
       "      <th>pressao_diastolica</th>\n",
       "      <th>n_atendimentos_atencao_primaria</th>\n",
       "      <th>n_atendimentos_hospital</th>\n",
       "    </tr>\n",
       "  </thead>\n",
       "  <tbody>\n",
       "    <tr>\n",
       "      <th>count</th>\n",
       "      <td>100000.000000</td>\n",
       "      <td>99975.000000</td>\n",
       "      <td>99816.000000</td>\n",
       "      <td>99960.000000</td>\n",
       "      <td>99983.000000</td>\n",
       "      <td>100000.000000</td>\n",
       "      <td>100000.000000</td>\n",
       "    </tr>\n",
       "    <tr>\n",
       "      <th>mean</th>\n",
       "      <td>0.158190</td>\n",
       "      <td>142.693589</td>\n",
       "      <td>63.801629</td>\n",
       "      <td>129.544068</td>\n",
       "      <td>79.378207</td>\n",
       "      <td>5.542710</td>\n",
       "      <td>7.312930</td>\n",
       "    </tr>\n",
       "    <tr>\n",
       "      <th>std</th>\n",
       "      <td>0.364921</td>\n",
       "      <td>38.659345</td>\n",
       "      <td>35.594173</td>\n",
       "      <td>21.406429</td>\n",
       "      <td>21.062140</td>\n",
       "      <td>5.204464</td>\n",
       "      <td>9.801987</td>\n",
       "    </tr>\n",
       "    <tr>\n",
       "      <th>min</th>\n",
       "      <td>0.000000</td>\n",
       "      <td>0.000000</td>\n",
       "      <td>0.000000</td>\n",
       "      <td>0.000000</td>\n",
       "      <td>0.000000</td>\n",
       "      <td>0.000000</td>\n",
       "      <td>0.000000</td>\n",
       "    </tr>\n",
       "    <tr>\n",
       "      <th>25%</th>\n",
       "      <td>0.000000</td>\n",
       "      <td>145.000000</td>\n",
       "      <td>50.700000</td>\n",
       "      <td>120.000000</td>\n",
       "      <td>70.000000</td>\n",
       "      <td>0.000000</td>\n",
       "      <td>0.000000</td>\n",
       "    </tr>\n",
       "    <tr>\n",
       "      <th>50%</th>\n",
       "      <td>0.000000</td>\n",
       "      <td>158.000000</td>\n",
       "      <td>67.900000</td>\n",
       "      <td>130.000000</td>\n",
       "      <td>80.000000</td>\n",
       "      <td>5.000000</td>\n",
       "      <td>2.000000</td>\n",
       "    </tr>\n",
       "    <tr>\n",
       "      <th>75%</th>\n",
       "      <td>0.000000</td>\n",
       "      <td>165.000000</td>\n",
       "      <td>82.000000</td>\n",
       "      <td>140.000000</td>\n",
       "      <td>87.000000</td>\n",
       "      <td>9.000000</td>\n",
       "      <td>13.000000</td>\n",
       "    </tr>\n",
       "    <tr>\n",
       "      <th>max</th>\n",
       "      <td>1.000000</td>\n",
       "      <td>810.000000</td>\n",
       "      <td>998.000000</td>\n",
       "      <td>900.000000</td>\n",
       "      <td>921.000000</td>\n",
       "      <td>32.000000</td>\n",
       "      <td>77.000000</td>\n",
       "    </tr>\n",
       "  </tbody>\n",
       "</table>\n",
       "</div>"
      ],
      "text/plain": [
       "       frequenta_escola        altura          peso  pressao_sistolica  \\\n",
       "count     100000.000000  99975.000000  99816.000000       99960.000000   \n",
       "mean           0.158190    142.693589     63.801629         129.544068   \n",
       "std            0.364921     38.659345     35.594173          21.406429   \n",
       "min            0.000000      0.000000      0.000000           0.000000   \n",
       "25%            0.000000    145.000000     50.700000         120.000000   \n",
       "50%            0.000000    158.000000     67.900000         130.000000   \n",
       "75%            0.000000    165.000000     82.000000         140.000000   \n",
       "max            1.000000    810.000000    998.000000         900.000000   \n",
       "\n",
       "       pressao_diastolica  n_atendimentos_atencao_primaria  \\\n",
       "count        99983.000000                    100000.000000   \n",
       "mean            79.378207                         5.542710   \n",
       "std             21.062140                         5.204464   \n",
       "min              0.000000                         0.000000   \n",
       "25%             70.000000                         0.000000   \n",
       "50%             80.000000                         5.000000   \n",
       "75%             87.000000                         9.000000   \n",
       "max            921.000000                        32.000000   \n",
       "\n",
       "       n_atendimentos_hospital  \n",
       "count            100000.000000  \n",
       "mean                  7.312930  \n",
       "std                   9.801987  \n",
       "min                   0.000000  \n",
       "25%                   0.000000  \n",
       "50%                   2.000000  \n",
       "75%                  13.000000  \n",
       "max                  77.000000  "
      ]
     },
     "execution_count": 18,
     "metadata": {},
     "output_type": "execute_result"
    }
   ],
   "source": [
    "# Let's take a look at the quantitative data\n",
    "\n",
    "df.describe()"
   ]
  },
  {
   "cell_type": "code",
   "execution_count": 19,
   "metadata": {},
   "outputs": [
    {
     "data": {
      "text/plain": [
       "Index(['identidade_genero', 'altura', 'peso', 'pressao_sistolica',\n",
       "       'pressao_diastolica'],\n",
       "      dtype='object')"
      ]
     },
     "execution_count": 19,
     "metadata": {},
     "output_type": "execute_result"
    }
   ],
   "source": [
    "# Check which columns have null values\n",
    "\n",
    "df.columns[df.isnull().any()]"
   ]
  },
  {
   "cell_type": "markdown",
   "metadata": {},
   "source": [
    "<a id='registers_over_time'></a>\n",
    "## Exploring the number of registers over the years:"
   ]
  },
  {
   "cell_type": "markdown",
   "metadata": {},
   "source": [
    "Let's take a look on the frequency of registers by analysing the **data_cadastro** column. "
   ]
  },
  {
   "cell_type": "code",
   "execution_count": 20,
   "metadata": {},
   "outputs": [],
   "source": [
    "df['data_cadastro'] = pd.to_datetime(df['data_cadastro'])"
   ]
  },
  {
   "cell_type": "code",
   "execution_count": 21,
   "metadata": {},
   "outputs": [
    {
     "data": {
      "text/plain": [
       "[2012,\n",
       " 2013,\n",
       " 2014,\n",
       " 2015,\n",
       " 2016,\n",
       " 2017,\n",
       " 2018,\n",
       " 2019,\n",
       " 2021,\n",
       " 2022,\n",
       " 2023,\n",
       " 2024,\n",
       " 2025,\n",
       " 2210]"
      ]
     },
     "execution_count": 21,
     "metadata": {},
     "output_type": "execute_result"
    }
   ],
   "source": [
    "register_years = sorted(df['data_cadastro'].dt.year.unique())\n",
    "register_years"
   ]
  },
  {
   "cell_type": "markdown",
   "metadata": {},
   "source": [
    "Now we know that there were registers between 2012 and 2025 and that there are a possible typo with year = 2210 in the **data_cadastro** column. Let's check if this typo happened more than once:"
   ]
  },
  {
   "cell_type": "code",
   "execution_count": 22,
   "metadata": {},
   "outputs": [
    {
     "data": {
      "text/html": [
       "<div>\n",
       "<style scoped>\n",
       "    .dataframe tbody tr th:only-of-type {\n",
       "        vertical-align: middle;\n",
       "    }\n",
       "\n",
       "    .dataframe tbody tr th {\n",
       "        vertical-align: top;\n",
       "    }\n",
       "\n",
       "    .dataframe thead th {\n",
       "        text-align: right;\n",
       "    }\n",
       "</style>\n",
       "<table border=\"1\" class=\"dataframe\">\n",
       "  <thead>\n",
       "    <tr style=\"text-align: right;\">\n",
       "      <th></th>\n",
       "      <th>id_paciente</th>\n",
       "      <th>sexo</th>\n",
       "      <th>obito</th>\n",
       "      <th>bairro</th>\n",
       "      <th>raca_cor</th>\n",
       "      <th>ocupacao</th>\n",
       "      <th>religiao</th>\n",
       "      <th>luz_eletrica</th>\n",
       "      <th>data_cadastro</th>\n",
       "      <th>escolaridade</th>\n",
       "      <th>...</th>\n",
       "      <th>familia_beneficiaria_auxilio_brasil</th>\n",
       "      <th>crianca_matriculada_creche_pre_escola</th>\n",
       "      <th>altura</th>\n",
       "      <th>peso</th>\n",
       "      <th>pressao_sistolica</th>\n",
       "      <th>pressao_diastolica</th>\n",
       "      <th>n_atendimentos_atencao_primaria</th>\n",
       "      <th>n_atendimentos_hospital</th>\n",
       "      <th>updated_at</th>\n",
       "      <th>tipo</th>\n",
       "    </tr>\n",
       "  </thead>\n",
       "  <tbody>\n",
       "    <tr>\n",
       "      <th>25365</th>\n",
       "      <td>441434ab-0884-435a-a18f-7851bf44e165</td>\n",
       "      <td>male</td>\n",
       "      <td>0</td>\n",
       "      <td>Tijuca</td>\n",
       "      <td>Parda</td>\n",
       "      <td>Barbeiro</td>\n",
       "      <td>Outra</td>\n",
       "      <td>True</td>\n",
       "      <td>2210-07-15 18:16:26.967</td>\n",
       "      <td>Médio Completo</td>\n",
       "      <td>...</td>\n",
       "      <td>0</td>\n",
       "      <td>1</td>\n",
       "      <td>169.0</td>\n",
       "      <td>96.0</td>\n",
       "      <td>120.0</td>\n",
       "      <td>70.0</td>\n",
       "      <td>12</td>\n",
       "      <td>0</td>\n",
       "      <td>2019-10-09 12:00:00</td>\n",
       "      <td>historico</td>\n",
       "    </tr>\n",
       "  </tbody>\n",
       "</table>\n",
       "<p>1 rows × 35 columns</p>\n",
       "</div>"
      ],
      "text/plain": [
       "                                id_paciente  sexo obito  bairro raca_cor  \\\n",
       "25365  441434ab-0884-435a-a18f-7851bf44e165  male     0  Tijuca    Parda   \n",
       "\n",
       "       ocupacao religiao luz_eletrica           data_cadastro    escolaridade  \\\n",
       "25365  Barbeiro    Outra         True 2210-07-15 18:16:26.967  Médio Completo   \n",
       "\n",
       "       ... familia_beneficiaria_auxilio_brasil  \\\n",
       "25365  ...                                   0   \n",
       "\n",
       "      crianca_matriculada_creche_pre_escola altura  peso  pressao_sistolica  \\\n",
       "25365                                     1  169.0  96.0              120.0   \n",
       "\n",
       "      pressao_diastolica n_atendimentos_atencao_primaria  \\\n",
       "25365               70.0                              12   \n",
       "\n",
       "      n_atendimentos_hospital           updated_at       tipo  \n",
       "25365                       0  2019-10-09 12:00:00  historico  \n",
       "\n",
       "[1 rows x 35 columns]"
      ]
     },
     "execution_count": 22,
     "metadata": {},
     "output_type": "execute_result"
    }
   ],
   "source": [
    "df.loc[df['data_cadastro'].dt.year == register_years[-1]]"
   ]
  },
  {
   "cell_type": "markdown",
   "metadata": {},
   "source": [
    "Considering the year range obtained previously, this entry might actually refer to 2021. However, we cannot be certain of that and replacing a data like this could pollute the dataset. One possible way of dealing with this problem is to create a flag that indicates whether there is a typo in the data."
   ]
  },
  {
   "cell_type": "code",
   "execution_count": 23,
   "metadata": {},
   "outputs": [
    {
     "data": {
      "image/png": "[encoded data removed]",
      "text/plain": [
       "<Figure size 1008x432 with 1 Axes>"
      ]
     },
     "metadata": {},
     "output_type": "display_data"
    }
   ],
   "source": [
    "min_year = df['data_cadastro'].dt.year.min()\n",
    "\n",
    "fig, ax = plt.subplots(figsize=(14,6), facecolor='white')\n",
    "\n",
    "sns.histplot(x=df['data_cadastro'].dt.year, binwidth=1)\n",
    "\n",
    "plt.xlim(min_year, register_years[-2]+1) # Not considering the outlier\n",
    "plt.xticks(np.arange(min_year, register_years[-2]+1, 1))\n",
    "\n",
    "plt.yscale('log')\n",
    "\n",
    "plt.xlabel('Register Year')\n",
    "plt.ylabel('Number of registers')\n",
    "\n",
    "plt.show()"
   ]
  },
  {
   "cell_type": "code",
   "execution_count": 24,
   "metadata": {},
   "outputs": [
    {
     "data": {
      "text/html": [
       "<div>\n",
       "<style scoped>\n",
       "    .dataframe tbody tr th:only-of-type {\n",
       "        vertical-align: middle;\n",
       "    }\n",
       "\n",
       "    .dataframe tbody tr th {\n",
       "        vertical-align: top;\n",
       "    }\n",
       "\n",
       "    .dataframe thead th {\n",
       "        text-align: right;\n",
       "    }\n",
       "</style>\n",
       "<table border=\"1\" class=\"dataframe\">\n",
       "  <thead>\n",
       "    <tr style=\"text-align: right;\">\n",
       "      <th></th>\n",
       "      <th>id_paciente</th>\n",
       "      <th>sexo</th>\n",
       "      <th>obito</th>\n",
       "      <th>bairro</th>\n",
       "      <th>raca_cor</th>\n",
       "      <th>ocupacao</th>\n",
       "      <th>religiao</th>\n",
       "      <th>luz_eletrica</th>\n",
       "      <th>data_cadastro</th>\n",
       "      <th>escolaridade</th>\n",
       "      <th>...</th>\n",
       "      <th>familia_beneficiaria_auxilio_brasil</th>\n",
       "      <th>crianca_matriculada_creche_pre_escola</th>\n",
       "      <th>altura</th>\n",
       "      <th>peso</th>\n",
       "      <th>pressao_sistolica</th>\n",
       "      <th>pressao_diastolica</th>\n",
       "      <th>n_atendimentos_atencao_primaria</th>\n",
       "      <th>n_atendimentos_hospital</th>\n",
       "      <th>updated_at</th>\n",
       "      <th>tipo</th>\n",
       "    </tr>\n",
       "  </thead>\n",
       "  <tbody>\n",
       "  </tbody>\n",
       "</table>\n",
       "<p>0 rows × 35 columns</p>\n",
       "</div>"
      ],
      "text/plain": [
       "Empty DataFrame\n",
       "Columns: [id_paciente, sexo, obito, bairro, raca_cor, ocupacao, religiao, luz_eletrica, data_cadastro, escolaridade, nacionalidade, renda_familiar, data_nascimento, em_situacao_de_rua, frequenta_escola, meios_transporte, doencas_condicoes, identidade_genero, meios_comunicacao, orientacao_sexual, possui_plano_saude, em_caso_doenca_procura, situacao_profissional, vulnerabilidade_social, data_atualizacao_cadastro, familia_beneficiaria_auxilio_brasil, crianca_matriculada_creche_pre_escola, altura, peso, pressao_sistolica, pressao_diastolica, n_atendimentos_atencao_primaria, n_atendimentos_hospital, updated_at, tipo]\n",
       "Index: []\n",
       "\n",
       "[0 rows x 35 columns]"
      ]
     },
     "execution_count": 24,
     "metadata": {},
     "output_type": "execute_result"
    }
   ],
   "source": [
    "df.loc[df['data_cadastro'].dt.year == 2020]"
   ]
  },
  {
   "cell_type": "markdown",
   "metadata": {},
   "source": [
    "This is a fake inconsistency that was meant to represent the pandemic start in 2020, when the number of home visits had to drop significantly to prevent COVID19 dissemination."
   ]
  },
  {
   "cell_type": "markdown",
   "metadata": {},
   "source": [
    "Now let's check if there are any more typos/errors in other date columns"
   ]
  },
  {
   "cell_type": "code",
   "execution_count": 25,
   "metadata": {},
   "outputs": [
    {
     "name": "stdout",
     "output_type": "stream",
     "text": [
      "+---------------------------+-------------------------+------------------+----------------------------+------------------+\n",
      "|          Column           |     Earliest entry      | # of occurrences |        Latest entry        | # of occurrences |\n",
      "+---------------------------+-------------------------+------------------+----------------------------+------------------+\n",
      "|       data_cadastro       |   2012-12-26 00:00:00   |        1         | 2210-07-15 18:16:26.967000 |        1         |\n",
      "|      data_nascimento      |       1911-07-11        |        1         |         2025-01-30         |        1         |\n",
      "| data_atualizacao_cadastro | 1900-01-01 00:00:00.000 |       1012       |    2025-02-10 12:59:06     |        1         |\n",
      "|        updated_at         | 1900-01-01 00:00:00.000 |       1063       |    2025-02-10 11:38:09     |        1         |\n",
      "+---------------------------+-------------------------+------------------+----------------------------+------------------+\n"
     ]
    }
   ],
   "source": [
    "dates = ['data_cadastro', 'data_nascimento', 'data_atualizacao_cadastro', 'updated_at']\n",
    "\n",
    "dates_table = []\n",
    "\n",
    "for date in dates:\n",
    "\n",
    "    dates_table.append([date, df[date].min(), \n",
    "                        len(df.loc[df[date] == df[date].min()]), df[date].max(),\n",
    "                        len(df.loc[df[date] == df[date].max()])])\n",
    "\n",
    "headers = [\"Column\", \"Earliest entry\",\"# of occurrences\", \"Latest entry\", \"# of occurrences\"]\n",
    "print(tabulate(dates_table, headers=headers, tablefmt=\"pretty\"))"
   ]
  },
  {
   "cell_type": "markdown",
   "metadata": {},
   "source": [
    "The `1900-01-01 00:00:00.000` error looks like a system default problem. For all these cases we can add flag columns to indicate that there is an error in the data. This approach is not always the best, but as we do not want to lose data from other columns, we can use these flags to filter the dataset later instead of just deleting the problematic rows."
   ]
  },
  {
   "cell_type": "markdown",
   "metadata": {},
   "source": [
    "<a id='exploring_quantitative_data'></a>\n",
    "## Exploring the quantitative data:"
   ]
  },
  {
   "cell_type": "code",
   "execution_count": 26,
   "metadata": {},
   "outputs": [
    {
     "data": {
      "text/html": [
       "<div>\n",
       "<style scoped>\n",
       "    .dataframe tbody tr th:only-of-type {\n",
       "        vertical-align: middle;\n",
       "    }\n",
       "\n",
       "    .dataframe tbody tr th {\n",
       "        vertical-align: top;\n",
       "    }\n",
       "\n",
       "    .dataframe thead th {\n",
       "        text-align: right;\n",
       "    }\n",
       "</style>\n",
       "<table border=\"1\" class=\"dataframe\">\n",
       "  <thead>\n",
       "    <tr style=\"text-align: right;\">\n",
       "      <th></th>\n",
       "      <th>frequenta_escola</th>\n",
       "      <th>altura</th>\n",
       "      <th>peso</th>\n",
       "      <th>pressao_sistolica</th>\n",
       "      <th>pressao_diastolica</th>\n",
       "      <th>n_atendimentos_atencao_primaria</th>\n",
       "      <th>n_atendimentos_hospital</th>\n",
       "    </tr>\n",
       "  </thead>\n",
       "  <tbody>\n",
       "    <tr>\n",
       "      <th>count</th>\n",
       "      <td>100000.000000</td>\n",
       "      <td>99975.000000</td>\n",
       "      <td>99816.000000</td>\n",
       "      <td>99960.000000</td>\n",
       "      <td>99983.000000</td>\n",
       "      <td>100000.000000</td>\n",
       "      <td>100000.000000</td>\n",
       "    </tr>\n",
       "    <tr>\n",
       "      <th>mean</th>\n",
       "      <td>0.158190</td>\n",
       "      <td>142.693589</td>\n",
       "      <td>63.801629</td>\n",
       "      <td>129.544068</td>\n",
       "      <td>79.378207</td>\n",
       "      <td>5.542710</td>\n",
       "      <td>7.312930</td>\n",
       "    </tr>\n",
       "    <tr>\n",
       "      <th>std</th>\n",
       "      <td>0.364921</td>\n",
       "      <td>38.659345</td>\n",
       "      <td>35.594173</td>\n",
       "      <td>21.406429</td>\n",
       "      <td>21.062140</td>\n",
       "      <td>5.204464</td>\n",
       "      <td>9.801987</td>\n",
       "    </tr>\n",
       "    <tr>\n",
       "      <th>min</th>\n",
       "      <td>0.000000</td>\n",
       "      <td>0.000000</td>\n",
       "      <td>0.000000</td>\n",
       "      <td>0.000000</td>\n",
       "      <td>0.000000</td>\n",
       "      <td>0.000000</td>\n",
       "      <td>0.000000</td>\n",
       "    </tr>\n",
       "    <tr>\n",
       "      <th>25%</th>\n",
       "      <td>0.000000</td>\n",
       "      <td>145.000000</td>\n",
       "      <td>50.700000</td>\n",
       "      <td>120.000000</td>\n",
       "      <td>70.000000</td>\n",
       "      <td>0.000000</td>\n",
       "      <td>0.000000</td>\n",
       "    </tr>\n",
       "    <tr>\n",
       "      <th>50%</th>\n",
       "      <td>0.000000</td>\n",
       "      <td>158.000000</td>\n",
       "      <td>67.900000</td>\n",
       "      <td>130.000000</td>\n",
       "      <td>80.000000</td>\n",
       "      <td>5.000000</td>\n",
       "      <td>2.000000</td>\n",
       "    </tr>\n",
       "    <tr>\n",
       "      <th>75%</th>\n",
       "      <td>0.000000</td>\n",
       "      <td>165.000000</td>\n",
       "      <td>82.000000</td>\n",
       "      <td>140.000000</td>\n",
       "      <td>87.000000</td>\n",
       "      <td>9.000000</td>\n",
       "      <td>13.000000</td>\n",
       "    </tr>\n",
       "    <tr>\n",
       "      <th>max</th>\n",
       "      <td>1.000000</td>\n",
       "      <td>810.000000</td>\n",
       "      <td>998.000000</td>\n",
       "      <td>900.000000</td>\n",
       "      <td>921.000000</td>\n",
       "      <td>32.000000</td>\n",
       "      <td>77.000000</td>\n",
       "    </tr>\n",
       "  </tbody>\n",
       "</table>\n",
       "</div>"
      ],
      "text/plain": [
       "       frequenta_escola        altura          peso  pressao_sistolica  \\\n",
       "count     100000.000000  99975.000000  99816.000000       99960.000000   \n",
       "mean           0.158190    142.693589     63.801629         129.544068   \n",
       "std            0.364921     38.659345     35.594173          21.406429   \n",
       "min            0.000000      0.000000      0.000000           0.000000   \n",
       "25%            0.000000    145.000000     50.700000         120.000000   \n",
       "50%            0.000000    158.000000     67.900000         130.000000   \n",
       "75%            0.000000    165.000000     82.000000         140.000000   \n",
       "max            1.000000    810.000000    998.000000         900.000000   \n",
       "\n",
       "       pressao_diastolica  n_atendimentos_atencao_primaria  \\\n",
       "count        99983.000000                    100000.000000   \n",
       "mean            79.378207                         5.542710   \n",
       "std             21.062140                         5.204464   \n",
       "min              0.000000                         0.000000   \n",
       "25%             70.000000                         0.000000   \n",
       "50%             80.000000                         5.000000   \n",
       "75%             87.000000                         9.000000   \n",
       "max            921.000000                        32.000000   \n",
       "\n",
       "       n_atendimentos_hospital  \n",
       "count            100000.000000  \n",
       "mean                  7.312930  \n",
       "std                   9.801987  \n",
       "min                   0.000000  \n",
       "25%                   0.000000  \n",
       "50%                   2.000000  \n",
       "75%                  13.000000  \n",
       "max                  77.000000  "
      ]
     },
     "execution_count": 26,
     "metadata": {},
     "output_type": "execute_result"
    }
   ],
   "source": [
    "quantitative_summary = df.describe()\n",
    "quantitative_columns = list(df.describe().columns)\n",
    "quantitative_summary"
   ]
  },
  {
   "cell_type": "markdown",
   "metadata": {},
   "source": [
    "We can immediately verify that the columns for height and weight, as well as the columns for blood pressure, show maximum and minimum values that are very far from the mean, considering the standard deviation. To investigate these issues more deeply, we can use box plots:"
   ]
  },
  {
   "cell_type": "code",
   "execution_count": 27,
   "metadata": {},
   "outputs": [
    {
     "data": {
      "image/png": "[encoded data removed]",
      "text/plain": [
       "<Figure size 432x288 with 1 Axes>"
      ]
     },
     "metadata": {},
     "output_type": "display_data"
    },
    {
     "data": {
      "image/png": "[encoded data removed]",
      "text/plain": [
       "<Figure size 432x288 with 1 Axes>"
      ]
     },
     "metadata": {},
     "output_type": "display_data"
    },
    {
     "data": {
      "image/png": "[encoded data removed]",
      "text/plain": [
       "<Figure size 432x288 with 1 Axes>"
      ]
     },
     "metadata": {},
     "output_type": "display_data"
    },
    {
     "data": {
      "image/png": "[encoded data removed]",
      "text/plain": [
       "<Figure size 432x288 with 1 Axes>"
      ]
     },
     "metadata": {},
     "output_type": "display_data"
    },
    {
     "data": {
      "image/png": "[encoded data removed]",
      "text/plain": [
       "<Figure size 432x288 with 1 Axes>"
      ]
     },
     "metadata": {},
     "output_type": "display_data"
    },
    {
     "data": {
      "image/png": "[encoded data removed]",
      "text/plain": [
       "<Figure size 432x288 with 1 Axes>"
      ]
     },
     "metadata": {},
     "output_type": "display_data"
    }
   ],
   "source": [
    "for col in quantitative_columns[1:]: # excluding the column 'frequenta_escola' because it is a flag (0 or 1 values).\n",
    "\n",
    "    fig, ax = plt.subplots(figsize=(6,4), facecolor='white')\n",
    "    sns.boxplot(x=df[col])\n",
    "    plt.show()"
   ]
  },
  {
   "cell_type": "code",
   "execution_count": 28,
   "metadata": {},
   "outputs": [
    {
     "name": "stdout",
     "output_type": "stream",
     "text": [
      "+---------------------------------+-------+-------+-------+\n",
      "|            Parameter            |  Q1   |  Q2   |  Q3   |\n",
      "+---------------------------------+-------+-------+-------+\n",
      "|             altura              | 145.0 | 158.0 | 165.0 |\n",
      "|              peso               | 50.7  | 67.9  | 82.0  |\n",
      "|        pressao_sistolica        | 120.0 | 130.0 | 140.0 |\n",
      "|       pressao_diastolica        | 70.0  | 80.0  | 87.0  |\n",
      "| n_atendimentos_atencao_primaria |  0.0  |  5.0  |  9.0  |\n",
      "|     n_atendimentos_hospital     |  0.0  |  2.0  | 13.0  |\n",
      "+---------------------------------+-------+-------+-------+\n"
     ]
    }
   ],
   "source": [
    "#!pip install tabulate -q\n",
    "from tabulate import tabulate\n",
    "\n",
    "# Initialize an empty list to store the rows\n",
    "table_df = []\n",
    "\n",
    "# Loop through the columns and calculate quartiles\n",
    "for col in quantitative_columns[1:]:\n",
    "    Q1 = df[col].quantile(0.25)\n",
    "    Q2 = df[col].quantile(0.5)\n",
    "    Q3 = df[col].quantile(0.75)\n",
    "    table_df.append([col, Q1, Q2, Q3])  # Append as a row\n",
    "\n",
    "# Define headers\n",
    "headers = [\"Parameter\", \"Q1\", \"Q2\", \"Q3\"]\n",
    "\n",
    "# Print the table\n",
    "print(tabulate(table_df, headers=headers, tablefmt=\"pretty\"))"
   ]
  },
  {
   "cell_type": "markdown",
   "metadata": {},
   "source": [
    "### First Impression of the Data:\n",
    "\n",
    "**Height Column:** It appears to have been filled in centimeters, based on the quartile values. There are some very discrepant values, such as those above 400 cm and below 40 cm (considering the size of a newborn baby). Guess: A likely source of error could be incorrect data entry during input.\n",
    "\n",
    "**Weight Column:** It seems to have been filled in kilograms, based on the quartile values. There are some very discrepant values, such as those above 200 kg and very close to zero (considering that the weight of a newborn baby typically ranges from 2 to 4 kilograms). Guess: Similar to the height column, a likely source of error could be incorrect data entry during input.\n",
    "\n",
    "**Blood Pressure Columns:** They appear to have been filled in mmHg, based on the quartile values. Since I am not from the healthcare field, I wouldn’t initially know if there are discrepant values. Therefore, I did some quick research:\n",
    "\n",
    "- **Diastolic Pressure:** For an adult (18+ years), normal values are considered to be less than 85 mmHg [(source)](https://bvsms.saude.gov.br/bvs/publicacoes/III_consenso_bras_hip_arterial.pdf).\n",
    "- **Systolic Pressure:** For an adult (18+ years), normal values are considered to be less than 130 mmHg [(source)](https://bvsms.saude.gov.br/bvs/publicacoes/III_consenso_bras_hip_arterial.pdf).\n",
    "\n",
    "Therefore, there are indeed discrepant values in both columns.\n",
    "\n",
    "**Number of Appointments Columns:** Both columns refer to appointments in the last year. If we consider that a person had two appointments per week, maintaining this frequency throughout the year (2 days × 4 weeks × 12 months), they would have had 96 appointments in the year. Therefore, despite being high, the values in these two columns do not seem to present any issues, at first glance."
   ]
  },
  {
   "cell_type": "markdown",
   "metadata": {},
   "source": [
    "### Exploring height and weight columns together"
   ]
  },
  {
   "cell_type": "code",
   "execution_count": 29,
   "metadata": {},
   "outputs": [
    {
     "data": {
      "image/png": "[encoded data removed]",
      "text/plain": [
       "<Figure size 432x432 with 3 Axes>"
      ]
     },
     "metadata": {
      "needs_background": "light"
     },
     "output_type": "display_data"
    }
   ],
   "source": [
    "sns.jointplot(x=df['peso'], y=df['altura'])\n",
    "plt.xlabel('Weight (kg)')\n",
    "plt.ylabel('Height (cm)')\n",
    "plt.show()"
   ]
  },
  {
   "cell_type": "markdown",
   "metadata": {},
   "source": [
    "We can try to identify the outliers numerically using the IQR (interquartile range) method:"
   ]
  },
  {
   "cell_type": "code",
   "execution_count": 30,
   "metadata": {},
   "outputs": [],
   "source": [
    "def calculate_IQR_lims(data, col, factor=1.5):\n",
    "\n",
    "    \"\"\"\n",
    "    Calculate the lower and upper limits for identifying outliers using the Interquartile Range (IQR) method.\n",
    "\n",
    "    Parameters:\n",
    "    -----------\n",
    "    data : pandas.DataFrame\n",
    "        The dataset containing the column for which the IQR limits are to be calculated.\n",
    "    col : str\n",
    "        The name of the column in the dataset to calculate the IQR limits for.\n",
    "    factor : float, optional (default=1.5)\n",
    "        The multiplier for the IQR to determine the lower and upper limits. A common choice is 1.5, \n",
    "        but it can be adjusted based on the desired sensitivity for outlier detection.\n",
    "\n",
    "    Returns:\n",
    "    --------\n",
    "    lower_lim : float\n",
    "        The lower limit for identifying outliers. Values below this limit are considered outliers.\n",
    "    upper_lim : float\n",
    "        The upper limit for identifying outliers. Values above this limit are considered outliers.\n",
    "\n",
    "    Notes:\n",
    "    ------\n",
    "    The IQR method identifies outliers by calculating the range between the first quartile (Q1) \n",
    "    and the third quartile (Q3). Outliers are typically defined as values that fall below \n",
    "    `Q1 - factor * IQR` or above `Q3 + factor * IQR`.\n",
    "    \"\"\"\n",
    "\n",
    "    Q1 = data[col].quantile(0.25)\n",
    "    Q3 = data[col].quantile(0.75)\n",
    "\n",
    "    IQR = Q3 - Q1\n",
    "\n",
    "    lower_lim = Q1 - factor * IQR\n",
    "    upper_lim = Q3 + factor * IQR\n",
    "\n",
    "    return lower_lim, upper_lim"
   ]
  },
  {
   "cell_type": "code",
   "execution_count": 31,
   "metadata": {},
   "outputs": [
    {
     "name": "stdout",
     "output_type": "stream",
     "text": [
      "Height limits: 115 and 195 cm. Median: 158.0 cm.\n",
      "Weight limits: 4 and 129 kg. Median: 67.9 kg.\n"
     ]
    }
   ],
   "source": [
    "# List of columns to analyze\n",
    "columns_to_analyze = ['altura', 'peso']\n",
    "\n",
    "limits = {}\n",
    "\n",
    "# Loop through each column and calculate IQR limits and median\n",
    "for col in columns_to_analyze:\n",
    "    # Calculate IQR limits\n",
    "    limits[col] = (calculate_IQR_lims(df, col))\n",
    "    \n",
    "    # Calculate median\n",
    "    median = df[col].quantile(0.5)\n",
    "    \n",
    "    # Print results\n",
    "    if col == 'altura':\n",
    "        param = 'Height'\n",
    "        unit = 'cm'\n",
    "    elif col == 'peso':\n",
    "        param = 'Weight'\n",
    "        unit = 'kg'\n",
    "    \n",
    "    print(f'{param} limits: {round(limits[col][0])} and {round(limits[col][1])} {unit}. Median: {median} {unit}.')"
   ]
  },
  {
   "cell_type": "code",
   "execution_count": 32,
   "metadata": {},
   "outputs": [
    {
     "data": {
      "image/png": "[encoded data removed]",
      "text/plain": [
       "<Figure size 504x504 with 1 Axes>"
      ]
     },
     "metadata": {},
     "output_type": "display_data"
    }
   ],
   "source": [
    "fig, ax = plt.subplots(figsize=(7,7), facecolor='white')\n",
    "\n",
    "sns.scatterplot(x=df['peso'], y=df['altura'])\n",
    "\n",
    "# Adding the limits for each column:\n",
    "\n",
    "plt.axvline(x=limits['peso'][0], ls='-', color='red')\n",
    "plt.axvline(x=limits['peso'][1], ls='-', color='red')\n",
    "\n",
    "plt.axhline(y=limits['altura'][0], ls='--', color='red')\n",
    "plt.axhline(y=limits['altura'][1], ls='--', color='red')\n",
    "\n",
    "plt.xlabel('Weight (kg)')\n",
    "plt.ylabel('Height (cm)')\n",
    "plt.show()"
   ]
  },
  {
   "cell_type": "markdown",
   "metadata": {},
   "source": [
    "Now we have a better understanding of which data points might actually be errors. However, as we previously mentioned, we should also consider the heights and weights of newborn babies. Therefore, it would be interesting to extend the lower height limit to 40 cm."
   ]
  },
  {
   "cell_type": "code",
   "execution_count": 33,
   "metadata": {},
   "outputs": [
    {
     "data": {
      "image/png": "[encoded data removed]",
      "text/plain": [
       "<Figure size 504x504 with 1 Axes>"
      ]
     },
     "metadata": {},
     "output_type": "display_data"
    }
   ],
   "source": [
    "fig, ax = plt.subplots(figsize=(7,7), facecolor='white')\n",
    "\n",
    "sns.scatterplot(x=df['peso'], y=df['altura'])\n",
    "\n",
    "plt.axvline(x=limits['peso'][0], ls='-', color='red')\n",
    "plt.axvline(x=limits['peso'][1], ls='-', color='red')\n",
    "\n",
    "plt.axhline(y=40, ls='--', color='red')\n",
    "plt.axhline(y=limits['altura'][1], ls='--', color='red')\n",
    "\n",
    "plt.xlabel('Weight (kg)')\n",
    "plt.ylabel('Height (cm)')\n",
    "plt.show()"
   ]
  },
  {
   "cell_type": "markdown",
   "metadata": {},
   "source": [
    "We can use the [IMC table](https://www.msdmanuals.com/pt/profissional/multimedia/table/%C3%ADndice-de-massa-corporal-imc) to argue that the points outside the box defined by the IQR limits are non-representative measurements."
   ]
  },
  {
   "cell_type": "markdown",
   "metadata": {},
   "source": [
    "<a id='general_exploration'></a>\n",
    "## Exploring all columns"
   ]
  },
  {
   "cell_type": "markdown",
   "metadata": {},
   "source": [
    "To better understand how the data is structured in each column, I created the following function to identify the most evident problems. \n",
    "\n",
    "**Warning:** since it covers all 35 columns, the output is very large and can be annoying to read. Feel free to run the function and see the results. \n",
    "\n",
    "Click [here](#identifying_problems) to get to the main findings."
   ]
  },
  {
   "cell_type": "code",
   "execution_count": 34,
   "metadata": {},
   "outputs": [],
   "source": [
    "def analyze_table(data, N_unique=10, N_example=10, display_info=False):\n",
    "\n",
    "    \"\"\"\n",
    "    Analyse each column to identify possible errors.\n",
    "\n",
    "    Parameters:\n",
    "    -----------\n",
    "    data : pandas.DataFrame\n",
    "        The dataset containing the columns to be analyzed.\n",
    "    N_example : int\n",
    "        Number of values to display as a preview\n",
    "    N_unique : int\n",
    "        Number of unique values to display as a preview\n",
    "    display_info : boolean\n",
    "        Flag to display info for all columns\n",
    "\n",
    "    Returns:\n",
    "    --------\n",
    "    column_info : dict\n",
    "        A dictionary that stores information of each column from the data\n",
    "    \"\"\"\n",
    "\n",
    "    # Deleting exact duplicates\n",
    "    data = data.drop_duplicates()\n",
    "    \n",
    "    column_info = {}\n",
    "\n",
    "    random_state = np.random.seed(42)\n",
    "    \n",
    "    for col in data.columns:\n",
    "\n",
    "        n_unique = data[col].nunique()\n",
    "\n",
    "        column_info[col] = {\n",
    "            'Data type': data[col].dtype,\n",
    "            'Number of unique values': n_unique,\n",
    "            'Example of unique values': data[col].unique() if n_unique <=N_unique else f'too many to show (more than {N_unique})',\n",
    "            'Number of null values': data[col].isnull().sum(),\n",
    "            'Total number of entries': len(data[col]),\n",
    "            'Preview': data[col].dropna().sample(min(N_example, len(data[col])), random_state=random_state).tolist()\n",
    "        }\n",
    "    \n",
    "    # Display info\n",
    "\n",
    "    if display_info:\n",
    "        for col, info in column_info.items():\n",
    "            print(f\"Column: {col}\")\n",
    "            for key, value in info.items():\n",
    "                print(f\"  {key}: {value}\")\n",
    "            print(\"-\" * 150)\n",
    "    else:\n",
    "        print('Table scanned successfully.')\n",
    "\n",
    "    return column_info"
   ]
  },
  {
   "cell_type": "code",
   "execution_count": 35,
   "metadata": {},
   "outputs": [
    {
     "name": "stdout",
     "output_type": "stream",
     "text": [
      "Table scanned successfully.\n"
     ]
    }
   ],
   "source": [
    "column_info = analyze_table(df, display_info=False) # change display_info to True to see the analysis for all columns"
   ]
  },
  {
   "cell_type": "code",
   "execution_count": 36,
   "metadata": {},
   "outputs": [
    {
     "data": {
      "text/plain": [
       "{'Data type': dtype('O'),\n",
       " 'Number of unique values': 277,\n",
       " 'Example of unique values': 'too many to show (more than 10)',\n",
       " 'Number of null values': 0,\n",
       " 'Total number of entries': 100000,\n",
       " 'Preview': ['Diabetes',\n",
       "  '[]',\n",
       "  '[]',\n",
       "  'Hipertensão',\n",
       "  'Diabetes, Hipertensão',\n",
       "  '[\"Hipertens\\\\u00e3o\"]',\n",
       "  '[]',\n",
       "  '[\"Hipertens\\\\u00e3o\"]',\n",
       "  'Diabetes, Hipertensão',\n",
       "  '[]']}"
      ]
     },
     "execution_count": 36,
     "metadata": {},
     "output_type": "execute_result"
    }
   ],
   "source": [
    "# Example of usage:\n",
    "\n",
    "column_info['doencas_condicoes']"
   ]
  },
  {
   "cell_type": "markdown",
   "metadata": {},
   "source": [
    "---"
   ]
  },
  {
   "cell_type": "markdown",
   "metadata": {},
   "source": [
    "<a id='identifying_problems'></a>\n",
    "# Identifying problems and proposing solutions\n",
    "\n",
    "To better organize the analysis, it is a good idea to filter the data in groups of columns with alike errors"
   ]
  },
  {
   "cell_type": "markdown",
   "metadata": {},
   "source": [
    "<details><summary> 0, 1, True, False errors</summary>\n",
    "\n",
    "Columns: \n",
    "- **obito**\n",
    "- **luz_eletrica**\n",
    "- **em_situacao_de_rua**\n",
    "- **possui_plano_saude**\n",
    "- **vulnerabilidade_social**\n",
    "- **familia_beneficiaria_auxilio_brasil**\n",
    "- **crianca_matriculada_creche_pre_escola** \n",
    "\n",
    "**Problem:** these columns are flags and the answer must be 0 or 1 OR True or False, but not both.\n",
    "\n",
    "**Possible cause of the issue/Suggestions for the next data retrieval:** The data collection system likely failed to identify True and False values as booleans, treating them as strings instead. Instruct healthcare workers to input only 0 or 1.\n",
    "\n",
    "**Solution:** Standardize the values to the integers 0 and 1.\n",
    "\n",
    "</details>\n",
    "\n",
    "\n",
    "<details> <summary> Date columns</summary>\n",
    "\n",
    "Columns: \n",
    "- **data_cadastro**\n",
    "- **data_nascimento**\n",
    "- **data_atualizacao_cadastro**\n",
    "- **updated_at**\n",
    "\n",
    "**Problem:** Some outliers and the data is not standardize (some have miliseconds, some are in DD/MM/YYYY format, etc) \n",
    "\n",
    "**Possible cause of the issue/Suggestions for the next data retrieval:** The system did not collect the milliseconds correctly in some of the date columns and some entries are getting a possible default problem.\n",
    "\n",
    "**Solution:** Transform to _datetime_. Add flag to indicate rows with problems.\n",
    "\n",
    "</details>\n",
    "\n",
    "<details><summary>Lists as strings, unicode problems, null values</summary>\n",
    "\n",
    "Columns: \n",
    "- **meios_transporte**\n",
    "- **doencas_condicoes**\n",
    "- **meios_comunicacao**\n",
    "- **em_caso_doenca_procura**\n",
    "\n",
    "**Problem:** Incorrect formatting (characters such as accents are returned as Unicode code), empty values that are actually of type '[]', lists within strings. Some incorrect entries in `meios_comunicacao` column.\n",
    "\n",
    "**Possible cause of the issue/Suggestions for the next data retrieval:** The data collection system does not correctly interpret when a list of values is provided as input.\n",
    "\n",
    "**Solution:** Standardize the data.\n",
    "\n",
    "</details>\n",
    "\n",
    "<details>\n",
    "  <summary>Columns with specific errors</summary>\n",
    "\n",
    "  - <details>\n",
    "      <summary>identidade_genero and orientacao_sexual</summary>\n",
    "\n",
    "      - **Problem:** In both, there are records of the type 'Homosexual (gay/lesbian)'. In the `identidade_genero` column, there are several null values, as well as some 'No' and 'Yes' values as well as values that should actualy be in `orientacao_sexual` column.\n",
    "\n",
    "      - **Possible cause of the issue/Suggestions for the next data retrieval:** Instruct the healthcare professional to enter only 'Homosexual' in cases of gay or lesbian and and emphasize that sexual orientation and gender identity are two different things. The responses 'Yes' and 'No' may be related to a lack of information from the person being interviewed or a misinterpretation by the person collecting the data. \n",
    "\n",
    "      - **Solution:** Transform 'Yes', 'No', and null values into 'Not informed'. Simplify 'Homosexual (gay/lesbian)' to 'Homosexual'. Replace sexual orientation entries in gender identity column to 'Não informado'.\n",
    "    </details>\n",
    "\n",
    "  - <details>\n",
    "      <summary>raca_cor</summary>\n",
    "\n",
    "      - **Problem:** Some rows with 'No' values.\n",
    "\n",
    "      - **Possible cause of the issue/Suggestions for the next data retrieval:** In this case, it may have happened that the interviewee did not feel comfortable disclosing their race.\n",
    "\n",
    "      - **Solution:** Transform 'No' to 'Do not wish to inform'.\n",
    "    </details>\n",
    "\n",
    "  - <details>\n",
    "      <summary>ocupacao</summary>\n",
    "\n",
    "      - **Problem:** Some rows with the subcategory of the job in parentheses.\n",
    "\n",
    "      - **Possible cause of the issue/Suggestions for the next data retrieval:** Since there is no column for the job category, the information ended up encapsulated.\n",
    "\n",
    "      - **Solution:** Extract the category information when available and create the column **categoria_ocupacao**.\n",
    "    </details>\n",
    "\n",
    "  - <details>\n",
    "      <summary>religiao</summary>\n",
    "\n",
    "      - **Problem:** Random values ['Acomp. Cresc. e Desenv. da Criança', 'ORQUIDEA', 'ESB ALMIRANTE', '10 EAP 01'], 'No', 'Yes', 'No religion'.\n",
    "\n",
    "      - **Possible cause of the issue/Suggestions for the next data retrieval:** The healthcare worker likely filled in the wrong field.\n",
    "      \n",
    "      - **Solution:** Transform random values into 'No information', 'No' into 'No religion', and 'Yes' into 'Other'.\n",
    "    </details>\n",
    "\n",
    "  - <details>\n",
    "      <summary>escolaridade</summary>\n",
    "\n",
    "      - **Problem:** 'Não sabe ler/escrever', 'Especialização/Residência'\n",
    "\n",
    "      - **Possible cause of the issue/Suggestions for the next data retrieval:** The healthcare worker was not properly instructed to fill in the data. Values with '/' make data analysis difficult. Instruct the worker to write only one category.\n",
    "      \n",
    "      - **Solution:** Transform 'Não sabe ler/escrever' into 'Iletrado' and 'Especialização/Residência' into 'Especialização ou Residência'.\n",
    "    </details>\n",
    "\n",
    "  - <details>\n",
    "      <summary>situacao_profissional</summary>\n",
    "\n",
    "      - **Problem:** 'Não se aplica' and 'Não trabalha' (the same information with two different tags), differentiation between having or not having social security, incorrect entry: 'SMS CAPS DIRCINHA E LINDA BATISTA AP 33', unnecessary detail: 'Médico Urologista', use of '/': 'Pensionista / Aposentado'.\n",
    "\n",
    "      - **Possible cause of the issue/Suggestions for the next data retrieval:** The healthcare worker was not properly instructed to fill in the data. There was an error in column entry for the value 'SMS CAPS DIRCINHA E LINDA BATISTA AP 33'. The distinction between formal and informal employment did not account for the case Médico Urologista'. Instruct the worker to enter only one category, for example: 'Pensionista' OR 'Aposentado'.\n",
    "      \n",
    "      - **Solution:** Transform values 'Does not apply' and 'Does not work' into 'Unemployed', 'SMS CAPS DIRCINHA E LINDA BATISTA AP 33' into 'Not informed', 'Urologist Doctor' into 'Formal Employment', and 'Pensioner / Retired' into 'Pensioner or Retired'. Create the column **previdencia_social** to contain information on whether the person has social security or not and establish rules for each category.\n",
    "    </details>  \n",
    "\n",
    "  - <details>\n",
    "      <summary>renda_familiar</summary>\n",
    "\n",
    "      - **Problem:** measured in minimum wages. Incorrect categories: 'Manhã' and 'Internet'.\n",
    "\n",
    "      - **Possible cause of the issue/Suggestions for the next data retrieval:** Incorrect column entry by the healthcare worker for the inputs 'Manhã' and 'Internet'.\n",
    "      \n",
    "      - **Solution:**  Instead of writing 'Minimum Wage' in each entry, keep only the numerical value, converting fractions to floats when necessary. Replace the value 'More than 4 Minimum Wages' with '+4'.\n",
    "    </details>\n",
    "\n",
    "  - <details>\n",
    "      <summary>id_paciente</summary>\n",
    "\n",
    "      **Problem:** Repeated values (duplicates and triplicates).\n",
    "\n",
    "      **Possible cause of the issue/Suggestions for the next data retrieval:** It may have occurred that the healthcare worker collected the data using the same ID as the previous interviewee due to lack of attention. The data collection system should implement a safety lock to prevent repeated values in this column.\n",
    "\n",
    "      **Solution:** The solution for this column is more complex due to its significance. Ideally, each ID should represent a unique patient. However, with repeated entries, we have two possible scenarios:\n",
    "\n",
    "        1. It is, in fact, the same patient but with an updated record;\n",
    "\n",
    "        2. It is another person but with the same ID;\n",
    "\n",
    "      To investigate this, the best approach would be to check the number of columns with different values for each duplicate. If the **data_nascimento** varies, then it is the second scenario. Otherwise, the first scenario should be considered. This raises an interesting discussion in the context of transgender patients who may have changed their gender between two different visits. For this, I emphasize the importance of correctly filling out the 'gender_identity' column.\n",
    "\n",
    "      The solution for the first scenario is to delete the old record(s), keeping only the most recent one, filtered by the **data_atualizacao_cadastro** column. For the second scenario, the solution is to generate a new ID and replace the repeated values. Since the database is constantly being updated, this solution is not the most appropriate but can serve as a temporary fix until the system issue is resolved.\n",
    "\n",
    "      Another factor to consider is whether all entries in this column comply with the established UUID standard.    \n",
    "  \n",
    "</details>\n",
    "\n",
    "<details><summary>Columns with no apparent errors</summary>\n",
    "\n",
    "- **sexo**\n",
    "- **bairro**\n",
    "- **nacionalidade**\n",
    "- **frequenta_escola**\n",
    "- **tipo**\n",
    "\n",
    "</details>\n"
   ]
  }
 ],
 "metadata": {
  "kernelspec": {
   "display_name": "base",
   "language": "python",
   "name": "python3"
  },
  "language_info": {
   "codemirror_mode": {
    "name": "ipython",
    "version": 3
   },
   "file_extension": ".py",
   "mimetype": "text/x-python",
   "name": "python",
   "nbconvert_exporter": "python",
   "pygments_lexer": "ipython3",
   "version": "3.8.10"
  }
 },
 "nbformat": 4,
 "nbformat_minor": 2
}
